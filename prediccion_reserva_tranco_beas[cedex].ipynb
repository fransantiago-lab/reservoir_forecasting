{
 "cells": [
  {
   "cell_type": "markdown",
   "metadata": {},
   "source": [
    "# Predicción de la reserva mensual del embalse Tranco de Beas (cedex)"
   ]
  },
  {
   "cell_type": "markdown",
   "metadata": {},
   "source": [
    "Los modelos a aplicar van a ser el suavizado exponencia y un modelo ARIMA."
   ]
  },
  {
   "cell_type": "markdown",
   "metadata": {},
   "source": [
    "# 1 - Lectura de datos, creación de la serie y análisis básico."
   ]
  },
  {
   "cell_type": "markdown",
   "metadata": {},
   "source": [
    "Los datos sobre los que se va a realizar el análisis corresponden al histórico reserva mensual de agua en $hm^3$ en el embalse de \"Tranco de Beas\" en la provincia de Jaén. Estos datos han sido recogidos de la web de Anuario de Aforos de España 2016-2017 (https://ceh.cedex.es/anuarioaforos/default.asp). Este anuario es mantenido y actualizado anualmente por el CEDEX (Centro de Estudios y Experimentación de Obras Públicas) dependiente del Ministerio para la Transición Ecológica y el Reto Demográfico.\n",
    "\n",
    "La web descargas es para la red de aforos de la Cuenca del Guadalquivir es:  https://ceh.cedex.es/anuarioaforos/GUADALQUIVIR_csv.asp"
   ]
  },
  {
   "cell_type": "code",
   "execution_count": 7,
   "metadata": {},
   "outputs": [
    {
     "data": {
      "text/html": [
       "<table>\n",
       "<caption>A tibble: 6 × 7</caption>\n",
       "<thead>\n",
       "\t<tr><th scope=col>ref_ceh</th><th scope=col>anomes</th><th scope=col>resmes</th><th scope=col>salmes</th><th scope=col>entmes</th><th scope=col>tipo_dato_id</th><th scope=col>orig_dato_id</th></tr>\n",
       "\t<tr><th scope=col>&lt;dbl&gt;</th><th scope=col>&lt;dbl&gt;</th><th scope=col>&lt;dbl&gt;</th><th scope=col>&lt;dbl&gt;</th><th scope=col>&lt;dbl&gt;</th><th scope=col>&lt;dbl&gt;</th><th scope=col>&lt;dbl&gt;</th></tr>\n",
       "</thead>\n",
       "<tbody>\n",
       "\t<tr><td>5001</td><td>194410</td><td> 0.00</td><td>9.97</td><td> 3.32</td><td>2</td><td>3</td></tr>\n",
       "\t<tr><td>5001</td><td>194411</td><td> 0.00</td><td>6.07</td><td> 6.07</td><td>2</td><td>3</td></tr>\n",
       "\t<tr><td>5001</td><td>194412</td><td> 6.27</td><td>2.64</td><td> 8.92</td><td>2</td><td>3</td></tr>\n",
       "\t<tr><td>5001</td><td>194501</td><td>22.37</td><td>1.54</td><td>17.64</td><td>2</td><td>3</td></tr>\n",
       "\t<tr><td>5001</td><td>194502</td><td>37.26</td><td>4.83</td><td>19.72</td><td>2</td><td>3</td></tr>\n",
       "\t<tr><td>5001</td><td>194503</td><td>42.23</td><td>6.06</td><td>11.03</td><td>2</td><td>3</td></tr>\n",
       "</tbody>\n",
       "</table>\n"
      ],
      "text/latex": [
       "A tibble: 6 × 7\n",
       "\\begin{tabular}{lllllll}\n",
       " ref\\_ceh & anomes & resmes & salmes & entmes & tipo\\_dato\\_id & orig\\_dato\\_id\\\\\n",
       " <dbl> & <dbl> & <dbl> & <dbl> & <dbl> & <dbl> & <dbl>\\\\\n",
       "\\hline\n",
       "\t 5001 & 194410 &  0.00 & 9.97 &  3.32 & 2 & 3\\\\\n",
       "\t 5001 & 194411 &  0.00 & 6.07 &  6.07 & 2 & 3\\\\\n",
       "\t 5001 & 194412 &  6.27 & 2.64 &  8.92 & 2 & 3\\\\\n",
       "\t 5001 & 194501 & 22.37 & 1.54 & 17.64 & 2 & 3\\\\\n",
       "\t 5001 & 194502 & 37.26 & 4.83 & 19.72 & 2 & 3\\\\\n",
       "\t 5001 & 194503 & 42.23 & 6.06 & 11.03 & 2 & 3\\\\\n",
       "\\end{tabular}\n"
      ],
      "text/markdown": [
       "\n",
       "A tibble: 6 × 7\n",
       "\n",
       "| ref_ceh &lt;dbl&gt; | anomes &lt;dbl&gt; | resmes &lt;dbl&gt; | salmes &lt;dbl&gt; | entmes &lt;dbl&gt; | tipo_dato_id &lt;dbl&gt; | orig_dato_id &lt;dbl&gt; |\n",
       "|---|---|---|---|---|---|---|\n",
       "| 5001 | 194410 |  0.00 | 9.97 |  3.32 | 2 | 3 |\n",
       "| 5001 | 194411 |  0.00 | 6.07 |  6.07 | 2 | 3 |\n",
       "| 5001 | 194412 |  6.27 | 2.64 |  8.92 | 2 | 3 |\n",
       "| 5001 | 194501 | 22.37 | 1.54 | 17.64 | 2 | 3 |\n",
       "| 5001 | 194502 | 37.26 | 4.83 | 19.72 | 2 | 3 |\n",
       "| 5001 | 194503 | 42.23 | 6.06 | 11.03 | 2 | 3 |\n",
       "\n"
      ],
      "text/plain": [
       "  ref_ceh anomes resmes salmes entmes tipo_dato_id orig_dato_id\n",
       "1 5001    194410  0.00  9.97    3.32  2            3           \n",
       "2 5001    194411  0.00  6.07    6.07  2            3           \n",
       "3 5001    194412  6.27  2.64    8.92  2            3           \n",
       "4 5001    194501 22.37  1.54   17.64  2            3           \n",
       "5 5001    194502 37.26  4.83   19.72  2            3           \n",
       "6 5001    194503 42.23  6.06   11.03  2            3           "
      ]
     },
     "metadata": {},
     "output_type": "display_data"
    },
    {
     "data": {
      "text/html": [
       "<table>\n",
       "<caption>A tibble: 6 × 7</caption>\n",
       "<thead>\n",
       "\t<tr><th scope=col>ref_ceh</th><th scope=col>anomes</th><th scope=col>resmes</th><th scope=col>salmes</th><th scope=col>entmes</th><th scope=col>tipo_dato_id</th><th scope=col>orig_dato_id</th></tr>\n",
       "\t<tr><th scope=col>&lt;dbl&gt;</th><th scope=col>&lt;dbl&gt;</th><th scope=col>&lt;dbl&gt;</th><th scope=col>&lt;dbl&gt;</th><th scope=col>&lt;dbl&gt;</th><th scope=col>&lt;dbl&gt;</th><th scope=col>&lt;dbl&gt;</th></tr>\n",
       "</thead>\n",
       "<tbody>\n",
       "\t<tr><td>5001</td><td>201804</td><td>284.247</td><td> 0.891</td><td>49.327</td><td>2</td><td>1</td></tr>\n",
       "\t<tr><td>5001</td><td>201805</td><td>332.683</td><td> 1.560</td><td>14.482</td><td>2</td><td>1</td></tr>\n",
       "\t<tr><td>5001</td><td>201806</td><td>345.605</td><td>19.349</td><td>11.056</td><td>2</td><td>1</td></tr>\n",
       "\t<tr><td>5001</td><td>201807</td><td>337.312</td><td>29.794</td><td> 5.089</td><td>2</td><td>1</td></tr>\n",
       "\t<tr><td>5001</td><td>201808</td><td>312.607</td><td>30.168</td><td> 4.485</td><td>2</td><td>1</td></tr>\n",
       "\t<tr><td>5001</td><td>201809</td><td>286.924</td><td>18.388</td><td> 4.713</td><td>2</td><td>1</td></tr>\n",
       "</tbody>\n",
       "</table>\n"
      ],
      "text/latex": [
       "A tibble: 6 × 7\n",
       "\\begin{tabular}{lllllll}\n",
       " ref\\_ceh & anomes & resmes & salmes & entmes & tipo\\_dato\\_id & orig\\_dato\\_id\\\\\n",
       " <dbl> & <dbl> & <dbl> & <dbl> & <dbl> & <dbl> & <dbl>\\\\\n",
       "\\hline\n",
       "\t 5001 & 201804 & 284.247 &  0.891 & 49.327 & 2 & 1\\\\\n",
       "\t 5001 & 201805 & 332.683 &  1.560 & 14.482 & 2 & 1\\\\\n",
       "\t 5001 & 201806 & 345.605 & 19.349 & 11.056 & 2 & 1\\\\\n",
       "\t 5001 & 201807 & 337.312 & 29.794 &  5.089 & 2 & 1\\\\\n",
       "\t 5001 & 201808 & 312.607 & 30.168 &  4.485 & 2 & 1\\\\\n",
       "\t 5001 & 201809 & 286.924 & 18.388 &  4.713 & 2 & 1\\\\\n",
       "\\end{tabular}\n"
      ],
      "text/markdown": [
       "\n",
       "A tibble: 6 × 7\n",
       "\n",
       "| ref_ceh &lt;dbl&gt; | anomes &lt;dbl&gt; | resmes &lt;dbl&gt; | salmes &lt;dbl&gt; | entmes &lt;dbl&gt; | tipo_dato_id &lt;dbl&gt; | orig_dato_id &lt;dbl&gt; |\n",
       "|---|---|---|---|---|---|---|\n",
       "| 5001 | 201804 | 284.247 |  0.891 | 49.327 | 2 | 1 |\n",
       "| 5001 | 201805 | 332.683 |  1.560 | 14.482 | 2 | 1 |\n",
       "| 5001 | 201806 | 345.605 | 19.349 | 11.056 | 2 | 1 |\n",
       "| 5001 | 201807 | 337.312 | 29.794 |  5.089 | 2 | 1 |\n",
       "| 5001 | 201808 | 312.607 | 30.168 |  4.485 | 2 | 1 |\n",
       "| 5001 | 201809 | 286.924 | 18.388 |  4.713 | 2 | 1 |\n",
       "\n"
      ],
      "text/plain": [
       "  ref_ceh anomes resmes  salmes entmes tipo_dato_id orig_dato_id\n",
       "1 5001    201804 284.247  0.891 49.327 2            1           \n",
       "2 5001    201805 332.683  1.560 14.482 2            1           \n",
       "3 5001    201806 345.605 19.349 11.056 2            1           \n",
       "4 5001    201807 337.312 29.794  5.089 2            1           \n",
       "5 5001    201808 312.607 30.168  4.485 2            1           \n",
       "6 5001    201809 286.924 18.388  4.713 2            1           "
      ]
     },
     "metadata": {},
     "output_type": "display_data"
    },
    {
     "data": {
      "text/plain": [
       "    ref_ceh         anomes           resmes          salmes        \n",
       " Min.   :5001   Min.   :194410   Min.   :  0.0   Min.   :  0.0000  \n",
       " 1st Qu.:5001   1st Qu.:196304   1st Qu.:139.7   1st Qu.:  0.5025  \n",
       " Median :5001   Median :198110   Median :273.1   Median :  7.9865  \n",
       " Mean   :5001   Mean   :198132   Mean   :260.5   Mean   : 16.4404  \n",
       " 3rd Qu.:5001   3rd Qu.:200003   3rd Qu.:381.5   3rd Qu.: 26.8525  \n",
       " Max.   :5001   Max.   :201809   Max.   :500.0   Max.   :130.7040  \n",
       "                                                                   \n",
       "     entmes         tipo_dato_id   orig_dato_id  \n",
       " Min.   :  0.000   Min.   :1.00   Min.   :1.000  \n",
       " 1st Qu.:  3.614   1st Qu.:1.00   1st Qu.:1.000  \n",
       " Median :  7.386   Median :1.00   Median :1.000  \n",
       " Mean   : 16.774   Mean   :1.23   Mean   :1.378  \n",
       " 3rd Qu.: 18.139   3rd Qu.:1.00   3rd Qu.:1.000  \n",
       " Max.   :204.090   Max.   :2.00   Max.   :3.000  \n",
       " NA's   :8                                       "
      ]
     },
     "metadata": {},
     "output_type": "display_data"
    }
   ],
   "source": [
    "archivo <- 'data/embalses_resmen.csv'\n",
    "\n",
    "# Cargamos el archivo de datos\n",
    "library(readr)\n",
    "datos <- read_delim(\"data/embalses_resmen.csv\", \";\",\n",
    "                   escape_double = FALSE,\n",
    "                   col_types = cols(salmes = col_double(), \n",
    "                   entmes = col_double()),\n",
    "                   locale = locale(decimal_mark = \",\"), \n",
    "                   trim_ws = TRUE)\n",
    "\n",
    "#El código identificador del embalse \"Tranco de Beas\" es \"ref_ceh\" = 5001\n",
    "datos5001 <- subset(datos, ref_ceh == 5001)\n",
    "head(datos5001)\n",
    "tail(datos5001)\n",
    "summary(datos5001)"
   ]
  },
  {
   "cell_type": "markdown",
   "metadata": {},
   "source": [
    "* El archivo de datos contiene las series de datos de reserva de los embalses catalogados en el anuario de aforos 2017-2018. \n",
    "\n",
    "* La columna que tiene los datos es \"resmen\". \n",
    "\n",
    "* Como se ve, las mediciones comienzan en octubre de 1944 y termina en septiembre de 2018. A nivel informativo, comentar que las mediciones anuales en hidrología siguen el año hidrologico, que en España va del mes de octubre al mes de septiembre del año siguiente."
   ]
  },
  {
   "cell_type": "code",
   "execution_count": 9,
   "metadata": {},
   "outputs": [
    {
     "data": {
      "text/html": [
       "<table>\n",
       "<caption>A Time Series: 12 × 12</caption>\n",
       "<thead>\n",
       "\t<tr><th></th><th scope=col>Jan</th><th scope=col>Feb</th><th scope=col>Mar</th><th scope=col>Apr</th><th scope=col>May</th><th scope=col>Jun</th><th scope=col>Jul</th><th scope=col>Aug</th><th scope=col>Sep</th><th scope=col>Oct</th><th scope=col>Nov</th><th scope=col>Dec</th></tr>\n",
       "</thead>\n",
       "<tbody>\n",
       "\t<tr><th scope=row>2004</th><td>333.394</td><td>344.658</td><td>359.198</td><td>385.229</td><td>424.314</td><td>423.021</td><td>386.739</td><td>353.782</td><td>339.404</td><td>332.580</td><td>332.445</td><td>328.132</td></tr>\n",
       "\t<tr><th scope=row>2005</th><td>322.785</td><td>318.289</td><td>313.813</td><td>300.446</td><td>276.425</td><td>256.586</td><td>231.245</td><td>197.348</td><td>188.646</td><td>182.410</td><td>181.722</td><td>188.999</td></tr>\n",
       "\t<tr><th scope=row>2006</th><td>191.727</td><td>198.188</td><td>228.165</td><td>237.768</td><td>225.504</td><td>198.909</td><td>164.143</td><td>130.518</td><td>117.920</td><td>116.643</td><td>120.533</td><td>124.482</td></tr>\n",
       "\t<tr><th scope=row>2007</th><td>127.749</td><td>147.327</td><td>158.029</td><td>181.476</td><td>201.649</td><td>186.925</td><td>158.502</td><td>132.095</td><td>124.805</td><td>125.963</td><td>128.043</td><td>129.833</td></tr>\n",
       "\t<tr><th scope=row>2008</th><td>135.040</td><td>137.433</td><td>139.758</td><td>164.653</td><td>196.566</td><td>186.307</td><td>154.915</td><td>127.491</td><td>119.821</td><td>121.518</td><td>130.391</td><td>164.975</td></tr>\n",
       "\t<tr><th scope=row>2009</th><td>228.093</td><td>279.564</td><td>319.419</td><td>337.373</td><td>324.405</td><td>275.896</td><td>220.773</td><td>167.651</td><td>157.869</td><td>156.981</td><td>159.856</td><td>213.004</td></tr>\n",
       "\t<tr><th scope=row>2010</th><td>300.383</td><td>385.787</td><td>426.699</td><td>436.684</td><td>452.357</td><td>447.396</td><td>430.108</td><td>405.726</td><td>388.133</td><td>380.124</td><td>403.801</td><td>424.736</td></tr>\n",
       "\t<tr><th scope=row>2011</th><td>410.999</td><td>434.621</td><td>426.781</td><td>440.333</td><td>454.451</td><td>440.160</td><td>415.409</td><td>389.981</td><td>376.937</td><td>372.267</td><td>378.156</td><td>382.671</td></tr>\n",
       "\t<tr><th scope=row>2012</th><td>385.177</td><td>385.530</td><td>379.079</td><td>386.891</td><td>381.770</td><td>356.911</td><td>312.642</td><td>272.409</td><td>250.909</td><td>253.124</td><td>287.706</td><td>314.527</td></tr>\n",
       "\t<tr><th scope=row>2013</th><td>396.048</td><td>438.074</td><td>483.438</td><td>463.106</td><td>473.368</td><td>465.526</td><td>442.900</td><td>419.959</td><td>397.745</td><td>381.770</td><td>375.662</td><td>380.871</td></tr>\n",
       "\t<tr><th scope=row>2014</th><td>407.090</td><td>426.911</td><td>433.288</td><td>445.578</td><td>445.243</td><td>423.021</td><td>391.697</td><td>365.428</td><td>353.103</td><td>350.309</td><td>356.825</td><td>362.751</td></tr>\n",
       "\t<tr><th scope=row>2015</th><td>370.343</td><td>416.259</td><td>429.650</td><td>436.288</td><td>429.388</td><td>405.976</td><td>379.900</td><td>352.777</td><td>332.526</td><td>323.847</td><td>321.608</td><td>314.736</td></tr>\n",
       "</tbody>\n",
       "</table>\n"
      ],
      "text/latex": [
       "A Time Series: 12 × 12\n",
       "\\begin{tabular}{r|llllllllllll}\n",
       "  & Jan & Feb & Mar & Apr & May & Jun & Jul & Aug & Sep & Oct & Nov & Dec\\\\\n",
       "\\hline\n",
       "\t2004 & 333.394 & 344.658 & 359.198 & 385.229 & 424.314 & 423.021 & 386.739 & 353.782 & 339.404 & 332.580 & 332.445 & 328.132\\\\\n",
       "\t2005 & 322.785 & 318.289 & 313.813 & 300.446 & 276.425 & 256.586 & 231.245 & 197.348 & 188.646 & 182.410 & 181.722 & 188.999\\\\\n",
       "\t2006 & 191.727 & 198.188 & 228.165 & 237.768 & 225.504 & 198.909 & 164.143 & 130.518 & 117.920 & 116.643 & 120.533 & 124.482\\\\\n",
       "\t2007 & 127.749 & 147.327 & 158.029 & 181.476 & 201.649 & 186.925 & 158.502 & 132.095 & 124.805 & 125.963 & 128.043 & 129.833\\\\\n",
       "\t2008 & 135.040 & 137.433 & 139.758 & 164.653 & 196.566 & 186.307 & 154.915 & 127.491 & 119.821 & 121.518 & 130.391 & 164.975\\\\\n",
       "\t2009 & 228.093 & 279.564 & 319.419 & 337.373 & 324.405 & 275.896 & 220.773 & 167.651 & 157.869 & 156.981 & 159.856 & 213.004\\\\\n",
       "\t2010 & 300.383 & 385.787 & 426.699 & 436.684 & 452.357 & 447.396 & 430.108 & 405.726 & 388.133 & 380.124 & 403.801 & 424.736\\\\\n",
       "\t2011 & 410.999 & 434.621 & 426.781 & 440.333 & 454.451 & 440.160 & 415.409 & 389.981 & 376.937 & 372.267 & 378.156 & 382.671\\\\\n",
       "\t2012 & 385.177 & 385.530 & 379.079 & 386.891 & 381.770 & 356.911 & 312.642 & 272.409 & 250.909 & 253.124 & 287.706 & 314.527\\\\\n",
       "\t2013 & 396.048 & 438.074 & 483.438 & 463.106 & 473.368 & 465.526 & 442.900 & 419.959 & 397.745 & 381.770 & 375.662 & 380.871\\\\\n",
       "\t2014 & 407.090 & 426.911 & 433.288 & 445.578 & 445.243 & 423.021 & 391.697 & 365.428 & 353.103 & 350.309 & 356.825 & 362.751\\\\\n",
       "\t2015 & 370.343 & 416.259 & 429.650 & 436.288 & 429.388 & 405.976 & 379.900 & 352.777 & 332.526 & 323.847 & 321.608 & 314.736\\\\\n",
       "\\end{tabular}\n"
      ],
      "text/markdown": [
       "\n",
       "A Time Series: 12 × 12\n",
       "\n",
       "| <!--/--> | Jan | Feb | Mar | Apr | May | Jun | Jul | Aug | Sep | Oct | Nov | Dec |\n",
       "|---|---|---|---|---|---|---|---|---|---|---|---|---|\n",
       "| 2004 | 333.394 | 344.658 | 359.198 | 385.229 | 424.314 | 423.021 | 386.739 | 353.782 | 339.404 | 332.580 | 332.445 | 328.132 |\n",
       "| 2005 | 322.785 | 318.289 | 313.813 | 300.446 | 276.425 | 256.586 | 231.245 | 197.348 | 188.646 | 182.410 | 181.722 | 188.999 |\n",
       "| 2006 | 191.727 | 198.188 | 228.165 | 237.768 | 225.504 | 198.909 | 164.143 | 130.518 | 117.920 | 116.643 | 120.533 | 124.482 |\n",
       "| 2007 | 127.749 | 147.327 | 158.029 | 181.476 | 201.649 | 186.925 | 158.502 | 132.095 | 124.805 | 125.963 | 128.043 | 129.833 |\n",
       "| 2008 | 135.040 | 137.433 | 139.758 | 164.653 | 196.566 | 186.307 | 154.915 | 127.491 | 119.821 | 121.518 | 130.391 | 164.975 |\n",
       "| 2009 | 228.093 | 279.564 | 319.419 | 337.373 | 324.405 | 275.896 | 220.773 | 167.651 | 157.869 | 156.981 | 159.856 | 213.004 |\n",
       "| 2010 | 300.383 | 385.787 | 426.699 | 436.684 | 452.357 | 447.396 | 430.108 | 405.726 | 388.133 | 380.124 | 403.801 | 424.736 |\n",
       "| 2011 | 410.999 | 434.621 | 426.781 | 440.333 | 454.451 | 440.160 | 415.409 | 389.981 | 376.937 | 372.267 | 378.156 | 382.671 |\n",
       "| 2012 | 385.177 | 385.530 | 379.079 | 386.891 | 381.770 | 356.911 | 312.642 | 272.409 | 250.909 | 253.124 | 287.706 | 314.527 |\n",
       "| 2013 | 396.048 | 438.074 | 483.438 | 463.106 | 473.368 | 465.526 | 442.900 | 419.959 | 397.745 | 381.770 | 375.662 | 380.871 |\n",
       "| 2014 | 407.090 | 426.911 | 433.288 | 445.578 | 445.243 | 423.021 | 391.697 | 365.428 | 353.103 | 350.309 | 356.825 | 362.751 |\n",
       "| 2015 | 370.343 | 416.259 | 429.650 | 436.288 | 429.388 | 405.976 | 379.900 | 352.777 | 332.526 | 323.847 | 321.608 | 314.736 |\n",
       "\n"
      ],
      "text/plain": [
       "     Jan     Feb     Mar     Apr     May     Jun     Jul     Aug     Sep    \n",
       "2004 333.394 344.658 359.198 385.229 424.314 423.021 386.739 353.782 339.404\n",
       "2005 322.785 318.289 313.813 300.446 276.425 256.586 231.245 197.348 188.646\n",
       "2006 191.727 198.188 228.165 237.768 225.504 198.909 164.143 130.518 117.920\n",
       "2007 127.749 147.327 158.029 181.476 201.649 186.925 158.502 132.095 124.805\n",
       "2008 135.040 137.433 139.758 164.653 196.566 186.307 154.915 127.491 119.821\n",
       "2009 228.093 279.564 319.419 337.373 324.405 275.896 220.773 167.651 157.869\n",
       "2010 300.383 385.787 426.699 436.684 452.357 447.396 430.108 405.726 388.133\n",
       "2011 410.999 434.621 426.781 440.333 454.451 440.160 415.409 389.981 376.937\n",
       "2012 385.177 385.530 379.079 386.891 381.770 356.911 312.642 272.409 250.909\n",
       "2013 396.048 438.074 483.438 463.106 473.368 465.526 442.900 419.959 397.745\n",
       "2014 407.090 426.911 433.288 445.578 445.243 423.021 391.697 365.428 353.103\n",
       "2015 370.343 416.259 429.650 436.288 429.388 405.976 379.900 352.777 332.526\n",
       "     Oct     Nov     Dec    \n",
       "2004 332.580 332.445 328.132\n",
       "2005 182.410 181.722 188.999\n",
       "2006 116.643 120.533 124.482\n",
       "2007 125.963 128.043 129.833\n",
       "2008 121.518 130.391 164.975\n",
       "2009 156.981 159.856 213.004\n",
       "2010 380.124 403.801 424.736\n",
       "2011 372.267 378.156 382.671\n",
       "2012 253.124 287.706 314.527\n",
       "2013 381.770 375.662 380.871\n",
       "2014 350.309 356.825 362.751\n",
       "2015 323.847 321.608 314.736"
      ]
     },
     "metadata": {},
     "output_type": "display_data"
    },
    {
     "data": {
      "image/png": "[encoded data removed]",
      "text/plain": [
       "Plot with title \"Embalse Tranco de Beas. Reserva mensual 2004-2015\""
      ]
     },
     "metadata": {
      "image/png": {
       "height": 420,
       "width": 420
      }
     },
     "output_type": "display_data"
    }
   ],
   "source": [
    "# Cogemos la columna de datos que nos interesa\n",
    "reserva <- datos5001$resmes\n",
    "\n",
    "#cremos la serie temporal\n",
    "reservats <- ts(reserva, start = c(1944,10), freq = 12)\n",
    "\n",
    "# Cogemos 12 años de datos como se indica en el enunciado.\n",
    "# pero tomamos un año adicional de forma separada para evaluar posteriormente\n",
    "# el ajuste de los modelos\n",
    "\n",
    "# Serie para generar los modelos\n",
    "rests <- window(reservats, c(2004,1),c(2015,12))\n",
    "rests\n",
    "\n",
    "# Serie para evaluar el ajuste \n",
    "rests.check <- window(reservats, c(2016,1),c(2016,12))\n",
    "\n",
    "#hacemos un plot de la serie\n",
    "plot(rests,\n",
    "     main = \"Embalse Tranco de Beas. Reserva mensual 2004-2015\",\n",
    "     xlab = \"Fecha\",\n",
    "     ylab = \"Reserva hm3\",\n",
    "     ylim = c(0.99*min(rests), 1.01*max(rests)))"
   ]
  },
  {
   "cell_type": "code",
   "execution_count": 10,
   "metadata": {},
   "outputs": [
    {
     "data": {
      "image/png": "[encoded data removed]",
      "text/plain": [
       "plot without title"
      ]
     },
     "metadata": {
      "image/png": {
       "height": 420,
       "width": 420
      }
     },
     "output_type": "display_data"
    }
   ],
   "source": [
    "# Vemos la descompsición de la serie\n",
    "rests.decomp <- decompose(rests)\n",
    "plot(rests.decomp)"
   ]
  },
  {
   "cell_type": "markdown",
   "metadata": {},
   "source": [
    "Comprobamos que tiene un ciclo anual bastante marcado"
   ]
  },
  {
   "cell_type": "code",
   "execution_count": 11,
   "metadata": {},
   "outputs": [
    {
     "data": {
      "image/png": "[encoded data removed]",
      "text/plain": [
       "Plot with title \"Series  rests\""
      ]
     },
     "metadata": {
      "image/png": {
       "height": 420,
       "width": 420
      }
     },
     "output_type": "display_data"
    }
   ],
   "source": [
    "# Vemos si existe autocorrelaciones en los datos\n",
    "acf(rests)"
   ]
  },
  {
   "cell_type": "markdown",
   "metadata": {},
   "source": [
    "Se observa que existe una correlación marcada en los datos. La función de autocorrelación disminuye con el lag pero no termina por converger a cero. Por tanto la serie no es estacionaria.\n",
    "\n",
    "Los lags en el eje x de la gráfica se refieren a unidades relativas de tiempo no a número de observaciones. En este caso los datos son mensuales por lo que, como se observa, en un año habrá 12 mediciones. A efectos esto se traduce en que el los lags están expresados en años."
   ]
  },
  {
   "cell_type": "markdown",
   "metadata": {},
   "source": [
    "# 2 - Análisis mediante suavizado exponencial\n",
    "\n",
    "https://en.wikipedia.org/wiki/Exponential_smoothing\n",
    "\n",
    "En el siguiente ejemplo se aplica el método de Holt-Winters que consiste concretamente en un triple alisado exponencial:\n",
    "\n",
    "* Primer alisado: Incluye el efecto del dato previo de la serie.\n",
    "* Segundo aliasado: Incluye el efecto de la tendencia de serie.\n",
    "* Tercer alisado: Incluye el efecto de la estacionalidad de la serie.\n",
    "\n",
    "Esto deriva en que es necesario, al aplicar este método, determinar tres parámetros a partir de los datos de la series (alfa, beta y gamma)"
   ]
  },
  {
   "cell_type": "code",
   "execution_count": 12,
   "metadata": {},
   "outputs": [
    {
     "data": {
      "text/plain": [
       "Holt-Winters exponential smoothing with trend and additive seasonal component.\n",
       "\n",
       "Call:\n",
       "HoltWinters(x = rests)\n",
       "\n",
       "Smoothing parameters:\n",
       " alpha: 0.9309817\n",
       " beta : 0.05661054\n",
       " gamma: 1\n",
       "\n",
       "Coefficients:\n",
       "          [,1]\n",
       "a   316.226782\n",
       "b    -3.769694\n",
       "s1   13.500853\n",
       "s2   25.349488\n",
       "s3   27.457781\n",
       "s4   25.869172\n",
       "s5   17.601328\n",
       "s6   -3.956172\n",
       "s7   -9.880725\n",
       "s8  -20.903415\n",
       "s9  -25.946044\n",
       "s10 -24.569262\n",
       "s11 -13.951446\n",
       "s12  -1.490782"
      ]
     },
     "metadata": {},
     "output_type": "display_data"
    }
   ],
   "source": [
    "# Se aplica el alisado exponencial de HoltWinters\n",
    "(rests.hw <- HoltWinters(rests))"
   ]
  },
  {
   "cell_type": "code",
   "execution_count": 13,
   "metadata": {},
   "outputs": [
    {
     "data": {
      "text/html": [
       "<table>\n",
       "<caption>A matrix: 6 × 4 of type dbl</caption>\n",
       "<thead>\n",
       "\t<tr><th scope=col>xhat</th><th scope=col>level</th><th scope=col>trend</th><th scope=col>season</th></tr>\n",
       "</thead>\n",
       "<tbody>\n",
       "\t<tr><td>378.1084</td><td>386.3474</td><td>-10.70391</td><td> 2.4649097</td></tr>\n",
       "\t<tr><td>321.4847</td><td>324.1384</td><td>-13.61964</td><td>10.9659097</td></tr>\n",
       "\t<tr><td>313.0452</td><td>307.5437</td><td>-13.78806</td><td>19.2895764</td></tr>\n",
       "\t<tr><td>299.1841</td><td>294.4704</td><td>-13.74759</td><td>18.4612431</td></tr>\n",
       "\t<tr><td>275.1940</td><td>281.8977</td><td>-13.68109</td><td> 6.9774514</td></tr>\n",
       "\t<tr><td>254.9622</td><td>269.3626</td><td>-13.61621</td><td>-0.7842153</td></tr>\n",
       "</tbody>\n",
       "</table>\n"
      ],
      "text/latex": [
       "A matrix: 6 × 4 of type dbl\n",
       "\\begin{tabular}{llll}\n",
       " xhat & level & trend & season\\\\\n",
       "\\hline\n",
       "\t 378.1084 & 386.3474 & -10.70391 &  2.4649097\\\\\n",
       "\t 321.4847 & 324.1384 & -13.61964 & 10.9659097\\\\\n",
       "\t 313.0452 & 307.5437 & -13.78806 & 19.2895764\\\\\n",
       "\t 299.1841 & 294.4704 & -13.74759 & 18.4612431\\\\\n",
       "\t 275.1940 & 281.8977 & -13.68109 &  6.9774514\\\\\n",
       "\t 254.9622 & 269.3626 & -13.61621 & -0.7842153\\\\\n",
       "\\end{tabular}\n"
      ],
      "text/markdown": [
       "\n",
       "A matrix: 6 × 4 of type dbl\n",
       "\n",
       "| xhat | level | trend | season |\n",
       "|---|---|---|---|\n",
       "| 378.1084 | 386.3474 | -10.70391 |  2.4649097 |\n",
       "| 321.4847 | 324.1384 | -13.61964 | 10.9659097 |\n",
       "| 313.0452 | 307.5437 | -13.78806 | 19.2895764 |\n",
       "| 299.1841 | 294.4704 | -13.74759 | 18.4612431 |\n",
       "| 275.1940 | 281.8977 | -13.68109 |  6.9774514 |\n",
       "| 254.9622 | 269.3626 | -13.61621 | -0.7842153 |\n",
       "\n"
      ],
      "text/plain": [
       "     xhat     level    trend     season    \n",
       "[1,] 378.1084 386.3474 -10.70391  2.4649097\n",
       "[2,] 321.4847 324.1384 -13.61964 10.9659097\n",
       "[3,] 313.0452 307.5437 -13.78806 19.2895764\n",
       "[4,] 299.1841 294.4704 -13.74759 18.4612431\n",
       "[5,] 275.1940 281.8977 -13.68109  6.9774514\n",
       "[6,] 254.9622 269.3626 -13.61621 -0.7842153"
      ]
     },
     "metadata": {},
     "output_type": "display_data"
    }
   ],
   "source": [
    "# Vemos algunos de los valores ajustados.\n",
    "head(rests.hw$fitted)"
   ]
  },
  {
   "cell_type": "code",
   "execution_count": 14,
   "metadata": {},
   "outputs": [
    {
     "data": {
      "text/html": [
       "78779.1892033952"
      ],
      "text/latex": [
       "78779.1892033952"
      ],
      "text/markdown": [
       "78779.1892033952"
      ],
      "text/plain": [
       "[1] 78779.19"
      ]
     },
     "metadata": {},
     "output_type": "display_data"
    }
   ],
   "source": [
    "# Suma total del error cuadratico\n",
    "rests.hw$SSE"
   ]
  },
  {
   "cell_type": "code",
   "execution_count": 23,
   "metadata": {},
   "outputs": [
    {
     "data": {
      "image/png": "[encoded data removed]",
      "text/plain": [
       "Plot with title \"Embalse Tranco de Beas. Reserva mensual 2004-2015\""
      ]
     },
     "metadata": {
      "image/png": {
       "height": 420,
       "width": 420
      }
     },
     "output_type": "display_data"
    }
   ],
   "source": [
    "# Grafica serie inicial vs serie suavizada\n",
    "plot(rests,\n",
    "     xlab = \"Fecha\",\n",
    "     ylab = \"Reserva hm3\",\n",
    "     ylim = c(0.99*min(rests), 1.01*max(rests)),\n",
    "     col = 'blue')\n",
    "lines(rests.hw$fitted[,1], col=\"red\")\n",
    "legend(\"topleft\",\n",
    "       legend=c(\"serie inicial\",\"serie suavizada\"),\n",
    "       col=c(\"blue\",\"red\"),lwd=2)\n",
    "title(main = 'Embalse Tranco de Beas. Reserva mensual 2004-2015',\n",
    "      sub = 'Suavizado exponencial (Holt-Winters)')"
   ]
  },
  {
   "cell_type": "code",
   "execution_count": 24,
   "metadata": {},
   "outputs": [
    {
     "data": {
      "image/png": "[encoded data removed]",
      "text/plain": [
       "Plot with title \"Embalse Tranco de Beas. Predicción de reserva 2016\""
      ]
     },
     "metadata": {
      "image/png": {
       "height": 420,
       "width": 420
      }
     },
     "output_type": "display_data"
    }
   ],
   "source": [
    "#predicción para 2016\n",
    "rests.pred2016 <- predict(rests.hw, n.ahead=12)\n",
    "\n",
    "plot(rests,\n",
    "     xlim = c(2004, 2017),\n",
    "     ylim = c(0.99*min(rests), 1.01*max(rests)),\n",
    "     main = \"Embalse Tranco de Beas. Predicción de reserva 2016\",\n",
    "     xlab = \"Fecha\",\n",
    "     ylab = \"Reserva hm3\",\n",
    "     col = 'blue')\n",
    "lines(rests.pred2016, col = 'red')\n",
    "lines(rests.check, col = 'dark green')\n",
    "legend(\"topleft\",\n",
    "       legend=c(\"serie hasta 2015\",\"prediccion 2016\",'datos reales 2016'),\n",
    "       col=c(\"blue\",\"red\",'dark green'),lwd=2)"
   ]
  },
  {
   "cell_type": "code",
   "execution_count": 17,
   "metadata": {},
   "outputs": [
    {
     "name": "stderr",
     "output_type": "stream",
     "text": [
      "Registered S3 method overwritten by 'quantmod':\n",
      "  method            from\n",
      "  as.zoo.data.frame zoo \n",
      "\n"
     ]
    },
    {
     "data": {
      "text/plain": [
       "         Point Forecast    Lo 80    Hi 80     Lo 95    Hi 95\n",
       "Jan 2016       325.9579 294.5569 357.3590 277.93415 373.9817\n",
       "Feb 2016       334.0369 289.9898 378.0839 266.67273 401.4010\n",
       "Mar 2016       332.3755 277.6102 387.1408 248.61922 416.1317\n",
       "Apr 2016       327.0172 262.4511 391.5833 228.27183 425.7625\n",
       "May 2016       314.9796 241.1267 388.8326 202.03125 427.9280\n",
       "Jun 2016       289.6524 206.8204 372.4845 162.97172 416.3332\n",
       "Jul 2016       279.9582 188.3343 371.5820 139.83161 420.0848\n",
       "Aug 2016       265.1658 164.8609 365.4707 111.76271 418.5689\n",
       "Sep 2016       256.3535 147.4266 365.2803  89.76425 422.9427\n",
       "Oct 2016       253.9606 136.4346 371.4866  74.22004 433.7011\n",
       "Nov 2016       260.8087 134.6799 386.9375  67.91136 453.7060\n",
       "Dec 2016       269.4997 134.7449 404.2545  63.41001 475.5893"
      ]
     },
     "metadata": {},
     "output_type": "display_data"
    },
    {
     "data": {
      "image/png": "[encoded data removed]",
      "text/plain": [
       "Plot with title \"Forecasts from HoltWinters\""
      ]
     },
     "metadata": {
      "image/png": {
       "height": 420,
       "width": 420
      }
     },
     "output_type": "display_data"
    }
   ],
   "source": [
    "# con la libreria forecast\n",
    "library(forecast)\n",
    "(rests.pred2016b <- forecast(rests.hw, h=12))\n",
    "plot(rests.pred2016b)\n",
    "lines(rests.check, col = 'red')\n",
    "legend(\"topleft\",\n",
    "       legend=c(\"serie hasta 2015\",\"prediccion 2016\",'datos reales 2016'),\n",
    "       col=c(\"black\",\"blue\",'red'),lwd=2)\n"
   ]
  },
  {
   "cell_type": "markdown",
   "metadata": {},
   "source": [
    "Como se observa las predicciones, aunque captan algo del comportmiento histórico de la serie, difieren de forma relevante respecto de los valores reales."
   ]
  },
  {
   "cell_type": "code",
   "execution_count": 18,
   "metadata": {},
   "outputs": [
    {
     "data": {
      "image/png": "[encoded data removed]",
      "text/plain": [
       "Plot with title \"Series  rests.pred2016b$residuals\""
      ]
     },
     "metadata": {
      "image/png": {
       "height": 420,
       "width": 420
      }
     },
     "output_type": "display_data"
    }
   ],
   "source": [
    "#Función de autocorrelación de los residuos de las predicciones\n",
    "acf(rests.pred2016b$residuals, na.action = na.pass)"
   ]
  },
  {
   "cell_type": "markdown",
   "metadata": {},
   "source": [
    "Se observa que la autocorrelación va disminuyendo progresivamente y, aunque con oscilaciones, convergen a cero."
   ]
  },
  {
   "cell_type": "code",
   "execution_count": 25,
   "metadata": {},
   "outputs": [
    {
     "data": {
      "text/html": [
       "<table>\n",
       "<caption>A data.frame: 7 × 2</caption>\n",
       "<thead>\n",
       "\t<tr><th></th><th scope=col>Test.set</th><th scope=col>description</th></tr>\n",
       "\t<tr><th></th><th scope=col>&lt;dbl&gt;</th><th scope=col>&lt;chr&gt;</th></tr>\n",
       "</thead>\n",
       "<tbody>\n",
       "\t<tr><th scope=row>ME</th><td>40.247500</td><td>Error medio                             </td></tr>\n",
       "\t<tr><th scope=row>RMSE</th><td>50.157171</td><td>Raíz del error cuadrático medio         </td></tr>\n",
       "\t<tr><th scope=row>MAE</th><td>41.899657</td><td>Error medio absoluto                    </td></tr>\n",
       "\t<tr><th scope=row>MPE</th><td>11.503557</td><td>Porcentaje de error medio               </td></tr>\n",
       "\t<tr><th scope=row>MAPE</th><td>12.026317</td><td>Porcentaje de error medio absoluto      </td></tr>\n",
       "\t<tr><th scope=row>ACF1</th><td> 0.647911</td><td>Autocorrelación de errores con retraso 1</td></tr>\n",
       "\t<tr><th scope=row>Theil's U</th><td> 2.195193</td><td>Índice U de desigualdad de Theils       </td></tr>\n",
       "</tbody>\n",
       "</table>\n"
      ],
      "text/latex": [
       "A data.frame: 7 × 2\n",
       "\\begin{tabular}{r|ll}\n",
       "  & Test.set & description\\\\\n",
       "  & <dbl> & <chr>\\\\\n",
       "\\hline\n",
       "\tME & 40.247500 & Error medio                             \\\\\n",
       "\tRMSE & 50.157171 & Raíz del error cuadrático medio         \\\\\n",
       "\tMAE & 41.899657 & Error medio absoluto                    \\\\\n",
       "\tMPE & 11.503557 & Porcentaje de error medio               \\\\\n",
       "\tMAPE & 12.026317 & Porcentaje de error medio absoluto      \\\\\n",
       "\tACF1 &  0.647911 & Autocorrelación de errores con retraso 1\\\\\n",
       "\tTheil's U &  2.195193 & Índice U de desigualdad de Theils       \\\\\n",
       "\\end{tabular}\n"
      ],
      "text/markdown": [
       "\n",
       "A data.frame: 7 × 2\n",
       "\n",
       "| <!--/--> | Test.set &lt;dbl&gt; | description &lt;chr&gt; |\n",
       "|---|---|---|\n",
       "| ME | 40.247500 | Error medio                              |\n",
       "| RMSE | 50.157171 | Raíz del error cuadrático medio          |\n",
       "| MAE | 41.899657 | Error medio absoluto                     |\n",
       "| MPE | 11.503557 | Porcentaje de error medio                |\n",
       "| MAPE | 12.026317 | Porcentaje de error medio absoluto       |\n",
       "| ACF1 |  0.647911 | Autocorrelación de errores con retraso 1 |\n",
       "| Theil's U |  2.195193 | Índice U de desigualdad de Theils        |\n",
       "\n"
      ],
      "text/plain": [
       "          Test.set  description                             \n",
       "ME        40.247500 Error medio                             \n",
       "RMSE      50.157171 Raíz del error cuadrático medio         \n",
       "MAE       41.899657 Error medio absoluto                    \n",
       "MPE       11.503557 Porcentaje de error medio               \n",
       "MAPE      12.026317 Porcentaje de error medio absoluto      \n",
       "ACF1       0.647911 Autocorrelación de errores con retraso 1\n",
       "Theil's U  2.195193 Índice U de desigualdad de Theils       "
      ]
     },
     "metadata": {},
     "output_type": "display_data"
    }
   ],
   "source": [
    "#Error en la predicción de 2016\n",
    "\n",
    "errors <- data.frame(t(accuracy(rests.pred2016b$mean , rests.check)))\n",
    "\n",
    "errors$description <- c('Error medio', \n",
    "                        'Raíz del error cuadrático medio',\n",
    "                        'Error medio absoluto',\n",
    "                        'Porcentaje de error medio',\n",
    "                        'Porcentaje de error medio absoluto',\n",
    "                        'Autocorrelación de errores con retraso 1',\n",
    "                        'Índice U de desigualdad de Theils')\n",
    "errors"
   ]
  },
  {
   "cell_type": "markdown",
   "metadata": {},
   "source": [
    "# 3 - Análisis mediante un modelo ARIMA"
   ]
  },
  {
   "cell_type": "markdown",
   "metadata": {},
   "source": [
    "## 3.1 - Determinar si es estacionaria o necesita alguna transformación previa."
   ]
  },
  {
   "cell_type": "markdown",
   "metadata": {},
   "source": [
    "Anteriormente en el análisis básico de la serie hemos visto que la serie no era estacionaria. Pero vamos a aplicar el test de la raíz unitaria para confirmarlo"
   ]
  },
  {
   "cell_type": "code",
   "execution_count": 26,
   "metadata": {},
   "outputs": [
    {
     "data": {
      "text/plain": [
       "\n",
       "\tAugmented Dickey-Fuller Test\n",
       "\n",
       "data:  rests\n",
       "Dickey-Fuller = -2.4094, Lag order = 5, p-value = 0.406\n",
       "alternative hypothesis: stationary\n"
      ]
     },
     "metadata": {},
     "output_type": "display_data"
    }
   ],
   "source": [
    "library(tseries)\n",
    "adf.test(rests)"
   ]
  },
  {
   "cell_type": "markdown",
   "metadata": {},
   "source": [
    "p-valor > 0.05. Por tanto se desecha la hipoótesis alternativa, que considera que la serie es estacionaria. Por tanto se confirma nuestra primera suposición."
   ]
  },
  {
   "cell_type": "code",
   "execution_count": 27,
   "metadata": {},
   "outputs": [
    {
     "data": {
      "text/html": [
       "1.12560148448405"
      ],
      "text/latex": [
       "1.12560148448405"
      ],
      "text/markdown": [
       "1.12560148448405"
      ],
      "text/plain": [
       "[1] 1.125601"
      ]
     },
     "metadata": {},
     "output_type": "display_data"
    }
   ],
   "source": [
    "# Vemos si se cumple la condición de homocestaticidad. (Constancia de la varianza)\n",
    "lambda <- BoxCox.lambda(rests, lower = 0, upper = 2)\n",
    "lambda"
   ]
  },
  {
   "cell_type": "markdown",
   "metadata": {},
   "source": [
    "El  valor de lambda es mayor que 1 por tanto es necesario aplicar la transformación de Box-Cox"
   ]
  },
  {
   "cell_type": "code",
   "execution_count": 30,
   "metadata": {},
   "outputs": [
    {
     "data": {
      "text/html": [
       "<table>\n",
       "<caption>A Time Series: 12 × 12</caption>\n",
       "<thead>\n",
       "\t<tr><th></th><th scope=col>Jan</th><th scope=col>Feb</th><th scope=col>Mar</th><th scope=col>Apr</th><th scope=col>May</th><th scope=col>Jun</th><th scope=col>Jul</th><th scope=col>Aug</th><th scope=col>Sep</th><th scope=col>Oct</th><th scope=col>Nov</th><th scope=col>Dec</th></tr>\n",
       "</thead>\n",
       "<tbody>\n",
       "\t<tr><th scope=row>2004</th><td>613.5245</td><td>636.9394</td><td>667.3062</td><td>722.0553</td><td>805.1285</td><td>802.3643</td><td>725.2457</td><td>655.9765</td><td>626.0056</td><td>611.8363</td><td>611.5563</td><td>602.6201</td></tr>\n",
       "\t<tr><th scope=row>2005</th><td>591.5619</td><td>582.2815</td><td>573.0587</td><td>545.6150</td><td>496.6864</td><td>456.6753</td><td>406.1343</td><td>339.6238</td><td>322.7706</td><td>310.7529</td><td>309.4302</td><td>323.4524</td></tr>\n",
       "\t<tr><th scope=row>2006</th><td>328.7266</td><td>341.2557</td><td>400.0373</td><td>419.0805</td><td>394.7781</td><td>342.6570</td><td>275.8522</td><td>212.9162</td><td>189.8320</td><td>187.5088</td><td>194.5956</td><td>201.8194</td></tr>\n",
       "\t<tr><th scope=row>2007</th><td>207.8174</td><td>244.1517</td><td>264.2769</td><td>308.9574</td><td>347.9884</td><td>319.4489</td><td>265.1704</td><td>215.8262</td><td>202.4115</td><td>204.5360</td><td>208.3581</td><td>211.6536</td></tr>\n",
       "\t<tr><th scope=row>2008</th><td>221.2722</td><td>225.7084</td><td>230.0278</td><td>276.8203</td><td>338.1054</td><td>318.2570</td><td>258.4028</td><td>207.3430</td><td>193.2963</td><td>196.3947</td><td>212.6821</td><td>277.4316</td></tr>\n",
       "\t<tr><th scope=row>2009</th><td>399.8949</td><td>503.0509</td><td>584.6124</td><td>621.7846</td><td>594.9098</td><td>495.6147</td><td>385.4469</td><td>282.5183</td><td>263.9747</td><td>262.2984</td><td>267.7301</td><td>370.1784</td></tr>\n",
       "\t<tr><th scope=row>2010</th><td>545.4861</td><td>723.2341</td><td>810.2298</td><td>831.6256</td><td>865.3333</td><td>854.6476</td><td>817.5276</td><td>765.4950</td><td>728.1925</td><td>711.2806</td><td>761.4033</td><td>806.0308</td></tr>\n",
       "\t<tr><th scope=row>2011</th><td>776.7154</td><td>827.1999</td><td>810.4052</td><td>839.4601</td><td>869.8480</td><td>839.0885</td><td>786.1133</td><td>732.1010</td><td>704.5633</td><td>694.7331</td><td>707.1318</td><td>716.6541</td></tr>\n",
       "\t<tr><th scope=row>2012</th><td>721.9454</td><td>722.6911</td><td>709.0773</td><td>725.5670</td><td>714.7527</td><td>662.5194</td><td>570.6485</td><td>488.5570</td><td>445.2960</td><td>449.7320</td><td>519.6010</td><td>574.5288</td></tr>\n",
       "\t<tr><th scope=row>2013</th><td>744.9490</td><td>834.6090</td><td>932.6094</td><td>888.5362</td><td>910.7512</td><td>893.7695</td><td>844.9764</td><td>795.8228</td><td>748.5471</td><td>714.7527</td><td>701.8780</td><td>712.8561</td></tr>\n",
       "\t<tr><th scope=row>2014</th><td>768.3957</td><td>810.6834</td><td>824.3417</td><td>850.7355</td><td>850.0148</td><td>802.3643</td><td>735.7324</td><td>680.3653</td><td>654.5576</td><td>648.7228</td><td>662.3395</td><td>674.7504</td></tr>\n",
       "\t<tr><th scope=row>2015</th><td>690.6877</td><td>787.9262</td><td>816.5467</td><td>830.7759</td><td>815.9856</td><td>766.0266</td><td>710.8082</td><td>653.8765</td><td>611.7243</td><td>593.7564</td><td>589.1308</td><td>574.9592</td></tr>\n",
       "</tbody>\n",
       "</table>\n"
      ],
      "text/latex": [
       "A Time Series: 12 × 12\n",
       "\\begin{tabular}{r|llllllllllll}\n",
       "  & Jan & Feb & Mar & Apr & May & Jun & Jul & Aug & Sep & Oct & Nov & Dec\\\\\n",
       "\\hline\n",
       "\t2004 & 613.5245 & 636.9394 & 667.3062 & 722.0553 & 805.1285 & 802.3643 & 725.2457 & 655.9765 & 626.0056 & 611.8363 & 611.5563 & 602.6201\\\\\n",
       "\t2005 & 591.5619 & 582.2815 & 573.0587 & 545.6150 & 496.6864 & 456.6753 & 406.1343 & 339.6238 & 322.7706 & 310.7529 & 309.4302 & 323.4524\\\\\n",
       "\t2006 & 328.7266 & 341.2557 & 400.0373 & 419.0805 & 394.7781 & 342.6570 & 275.8522 & 212.9162 & 189.8320 & 187.5088 & 194.5956 & 201.8194\\\\\n",
       "\t2007 & 207.8174 & 244.1517 & 264.2769 & 308.9574 & 347.9884 & 319.4489 & 265.1704 & 215.8262 & 202.4115 & 204.5360 & 208.3581 & 211.6536\\\\\n",
       "\t2008 & 221.2722 & 225.7084 & 230.0278 & 276.8203 & 338.1054 & 318.2570 & 258.4028 & 207.3430 & 193.2963 & 196.3947 & 212.6821 & 277.4316\\\\\n",
       "\t2009 & 399.8949 & 503.0509 & 584.6124 & 621.7846 & 594.9098 & 495.6147 & 385.4469 & 282.5183 & 263.9747 & 262.2984 & 267.7301 & 370.1784\\\\\n",
       "\t2010 & 545.4861 & 723.2341 & 810.2298 & 831.6256 & 865.3333 & 854.6476 & 817.5276 & 765.4950 & 728.1925 & 711.2806 & 761.4033 & 806.0308\\\\\n",
       "\t2011 & 776.7154 & 827.1999 & 810.4052 & 839.4601 & 869.8480 & 839.0885 & 786.1133 & 732.1010 & 704.5633 & 694.7331 & 707.1318 & 716.6541\\\\\n",
       "\t2012 & 721.9454 & 722.6911 & 709.0773 & 725.5670 & 714.7527 & 662.5194 & 570.6485 & 488.5570 & 445.2960 & 449.7320 & 519.6010 & 574.5288\\\\\n",
       "\t2013 & 744.9490 & 834.6090 & 932.6094 & 888.5362 & 910.7512 & 893.7695 & 844.9764 & 795.8228 & 748.5471 & 714.7527 & 701.8780 & 712.8561\\\\\n",
       "\t2014 & 768.3957 & 810.6834 & 824.3417 & 850.7355 & 850.0148 & 802.3643 & 735.7324 & 680.3653 & 654.5576 & 648.7228 & 662.3395 & 674.7504\\\\\n",
       "\t2015 & 690.6877 & 787.9262 & 816.5467 & 830.7759 & 815.9856 & 766.0266 & 710.8082 & 653.8765 & 611.7243 & 593.7564 & 589.1308 & 574.9592\\\\\n",
       "\\end{tabular}\n"
      ],
      "text/markdown": [
       "\n",
       "A Time Series: 12 × 12\n",
       "\n",
       "| <!--/--> | Jan | Feb | Mar | Apr | May | Jun | Jul | Aug | Sep | Oct | Nov | Dec |\n",
       "|---|---|---|---|---|---|---|---|---|---|---|---|---|\n",
       "| 2004 | 613.5245 | 636.9394 | 667.3062 | 722.0553 | 805.1285 | 802.3643 | 725.2457 | 655.9765 | 626.0056 | 611.8363 | 611.5563 | 602.6201 |\n",
       "| 2005 | 591.5619 | 582.2815 | 573.0587 | 545.6150 | 496.6864 | 456.6753 | 406.1343 | 339.6238 | 322.7706 | 310.7529 | 309.4302 | 323.4524 |\n",
       "| 2006 | 328.7266 | 341.2557 | 400.0373 | 419.0805 | 394.7781 | 342.6570 | 275.8522 | 212.9162 | 189.8320 | 187.5088 | 194.5956 | 201.8194 |\n",
       "| 2007 | 207.8174 | 244.1517 | 264.2769 | 308.9574 | 347.9884 | 319.4489 | 265.1704 | 215.8262 | 202.4115 | 204.5360 | 208.3581 | 211.6536 |\n",
       "| 2008 | 221.2722 | 225.7084 | 230.0278 | 276.8203 | 338.1054 | 318.2570 | 258.4028 | 207.3430 | 193.2963 | 196.3947 | 212.6821 | 277.4316 |\n",
       "| 2009 | 399.8949 | 503.0509 | 584.6124 | 621.7846 | 594.9098 | 495.6147 | 385.4469 | 282.5183 | 263.9747 | 262.2984 | 267.7301 | 370.1784 |\n",
       "| 2010 | 545.4861 | 723.2341 | 810.2298 | 831.6256 | 865.3333 | 854.6476 | 817.5276 | 765.4950 | 728.1925 | 711.2806 | 761.4033 | 806.0308 |\n",
       "| 2011 | 776.7154 | 827.1999 | 810.4052 | 839.4601 | 869.8480 | 839.0885 | 786.1133 | 732.1010 | 704.5633 | 694.7331 | 707.1318 | 716.6541 |\n",
       "| 2012 | 721.9454 | 722.6911 | 709.0773 | 725.5670 | 714.7527 | 662.5194 | 570.6485 | 488.5570 | 445.2960 | 449.7320 | 519.6010 | 574.5288 |\n",
       "| 2013 | 744.9490 | 834.6090 | 932.6094 | 888.5362 | 910.7512 | 893.7695 | 844.9764 | 795.8228 | 748.5471 | 714.7527 | 701.8780 | 712.8561 |\n",
       "| 2014 | 768.3957 | 810.6834 | 824.3417 | 850.7355 | 850.0148 | 802.3643 | 735.7324 | 680.3653 | 654.5576 | 648.7228 | 662.3395 | 674.7504 |\n",
       "| 2015 | 690.6877 | 787.9262 | 816.5467 | 830.7759 | 815.9856 | 766.0266 | 710.8082 | 653.8765 | 611.7243 | 593.7564 | 589.1308 | 574.9592 |\n",
       "\n"
      ],
      "text/plain": [
       "     Jan      Feb      Mar      Apr      May      Jun      Jul      Aug     \n",
       "2004 613.5245 636.9394 667.3062 722.0553 805.1285 802.3643 725.2457 655.9765\n",
       "2005 591.5619 582.2815 573.0587 545.6150 496.6864 456.6753 406.1343 339.6238\n",
       "2006 328.7266 341.2557 400.0373 419.0805 394.7781 342.6570 275.8522 212.9162\n",
       "2007 207.8174 244.1517 264.2769 308.9574 347.9884 319.4489 265.1704 215.8262\n",
       "2008 221.2722 225.7084 230.0278 276.8203 338.1054 318.2570 258.4028 207.3430\n",
       "2009 399.8949 503.0509 584.6124 621.7846 594.9098 495.6147 385.4469 282.5183\n",
       "2010 545.4861 723.2341 810.2298 831.6256 865.3333 854.6476 817.5276 765.4950\n",
       "2011 776.7154 827.1999 810.4052 839.4601 869.8480 839.0885 786.1133 732.1010\n",
       "2012 721.9454 722.6911 709.0773 725.5670 714.7527 662.5194 570.6485 488.5570\n",
       "2013 744.9490 834.6090 932.6094 888.5362 910.7512 893.7695 844.9764 795.8228\n",
       "2014 768.3957 810.6834 824.3417 850.7355 850.0148 802.3643 735.7324 680.3653\n",
       "2015 690.6877 787.9262 816.5467 830.7759 815.9856 766.0266 710.8082 653.8765\n",
       "     Sep      Oct      Nov      Dec     \n",
       "2004 626.0056 611.8363 611.5563 602.6201\n",
       "2005 322.7706 310.7529 309.4302 323.4524\n",
       "2006 189.8320 187.5088 194.5956 201.8194\n",
       "2007 202.4115 204.5360 208.3581 211.6536\n",
       "2008 193.2963 196.3947 212.6821 277.4316\n",
       "2009 263.9747 262.2984 267.7301 370.1784\n",
       "2010 728.1925 711.2806 761.4033 806.0308\n",
       "2011 704.5633 694.7331 707.1318 716.6541\n",
       "2012 445.2960 449.7320 519.6010 574.5288\n",
       "2013 748.5471 714.7527 701.8780 712.8561\n",
       "2014 654.5576 648.7228 662.3395 674.7504\n",
       "2015 611.7243 593.7564 589.1308 574.9592"
      ]
     },
     "metadata": {},
     "output_type": "display_data"
    },
    {
     "data": {
      "text/html": [
       "1.00007613071655"
      ],
      "text/latex": [
       "1.00007613071655"
      ],
      "text/markdown": [
       "1.00007613071655"
      ],
      "text/plain": [
       "[1] 1.000076"
      ]
     },
     "metadata": {},
     "output_type": "display_data"
    }
   ],
   "source": [
    "# Aplicamos la transformación de Box-Cox\n",
    "rests.BC <- BoxCox(rests, lambda)\n",
    "rests.BC\n",
    "BoxCox.lambda(rests.BC, lower = 0, upper = 2)"
   ]
  },
  {
   "cell_type": "code",
   "execution_count": 29,
   "metadata": {},
   "outputs": [
    {
     "data": {
      "image/png": "[encoded data removed]",
      "text/plain": [
       "Plot with title \"Reserva del Embalse Tranco de Beas.Transformación Box-Cox\""
      ]
     },
     "metadata": {
      "image/png": {
       "height": 420,
       "width": 420
      }
     },
     "output_type": "display_data"
    }
   ],
   "source": [
    "plot(rests.BC,\n",
    "     main = \"Reserva del Embalse Tranco de Beas.Transformación Box-Cox\",\n",
    "     xlab = \"Fecha\",\n",
    "     ylab = \"Reserva (Transformación  BoxCox)\",\n",
    "     ylim = c(0.99*min(rests.BC), 1.01*max(rests.BC)))"
   ]
  },
  {
   "cell_type": "markdown",
   "metadata": {},
   "source": [
    "## 3.2 - Contrastar si la serie transformada puede considerarse estacionaria."
   ]
  },
  {
   "cell_type": "code",
   "execution_count": 31,
   "metadata": {},
   "outputs": [
    {
     "data": {
      "image/png": "[encoded data removed]",
      "text/plain": [
       "Plot with title \"FAS de Box-Cox(Reserva)\""
      ]
     },
     "metadata": {
      "image/png": {
       "height": 420,
       "width": 420
      }
     },
     "output_type": "display_data"
    }
   ],
   "source": [
    "# Estacionariedad en medias\n",
    "acf(rests.BC, main = \"FAS de Box-Cox(Reserva)\")"
   ]
  },
  {
   "cell_type": "code",
   "execution_count": 32,
   "metadata": {},
   "outputs": [
    {
     "data": {
      "text/plain": [
       "\n",
       "\tAugmented Dickey-Fuller Test\n",
       "\n",
       "data:  rests.BC\n",
       "Dickey-Fuller = -2.4343, Lag order = 5, p-value = 0.3956\n",
       "alternative hypothesis: stationary\n"
      ]
     },
     "metadata": {},
     "output_type": "display_data"
    }
   ],
   "source": [
    "#Probamos el test de raíz unitaria con los datos transformados\n",
    "adf.test(rests.BC)"
   ]
  },
  {
   "cell_type": "markdown",
   "metadata": {},
   "source": [
    "Se observa que la serie sigue sin ser estacionaria.(p-vlue > 0.05)"
   ]
  },
  {
   "cell_type": "code",
   "execution_count": 33,
   "metadata": {},
   "outputs": [
    {
     "data": {
      "image/png": "[encoded data removed]",
      "text/plain": [
       "Plot with title \"FAS de la primera diferencia de Box.Cox(Reserva)\""
      ]
     },
     "metadata": {
      "image/png": {
       "height": 420,
       "width": 420
      }
     },
     "output_type": "display_data"
    }
   ],
   "source": [
    "# Probamos con la diferenciación de primer orden\n",
    "rests.d1 <- diff(rests.BC, lag = 1, differences = 1)\n",
    "acf(rests.d1, main=\"FAS de la primera diferencia de Box.Cox(Reserva)\")"
   ]
  },
  {
   "cell_type": "markdown",
   "metadata": {},
   "source": [
    "Hemos visto anteriormente que la serie tiene estacionalidad por tanto este efecto tenemos eliminarlo de la serie de diferencias de orden 1"
   ]
  },
  {
   "cell_type": "code",
   "execution_count": 34,
   "metadata": {},
   "outputs": [
    {
     "data": {
      "image/png": "[encoded data removed]",
      "text/plain": [
       "Plot with title \"FAS Box-Cox(Reserva) ) tras una diferencia de orden 1\n",
       "y otra estacional\""
      ]
     },
     "metadata": {
      "image/png": {
       "height": 420,
       "width": 420
      }
     },
     "output_type": "display_data"
    }
   ],
   "source": [
    "rests.d12 <- diff(rests.d1, lag = 12, differences = 1)\n",
    "acf(rests.d12, main = \"FAS Box-Cox(Reserva) ) tras una diferencia de orden 1\n",
    "y otra estacional\")"
   ]
  },
  {
   "cell_type": "markdown",
   "metadata": {},
   "source": [
    "Con esto hemos disminuido gran parte de las autocorrelaciones al intervalo (-0.2, 0.2). Podemos considerar por tanto que la serie no está autocorrelada"
   ]
  },
  {
   "cell_type": "code",
   "execution_count": 35,
   "metadata": {},
   "outputs": [
    {
     "data": {
      "image/png": "[encoded data removed]",
      "text/plain": [
       "Plot with title \"Diferencias de Box-Cox(Reserva) tras una diferencia regular\n",
       "             de orden 1 y otra  estacional\""
      ]
     },
     "metadata": {
      "image/png": {
       "height": 420,
       "width": 420
      }
     },
     "output_type": "display_data"
    }
   ],
   "source": [
    "plot(rests.d12,\n",
    "     main = \"Diferencias de Box-Cox(Reserva) tras una diferencia regular\n",
    "             de orden 1 y otra  estacional\",\n",
    "     xlab = \"Fecha\",\n",
    "     ylab = \"Diferencias\",\n",
    "     ylim = c(0.99*min(rests.d12), 1.01*max(rests.d12)))"
   ]
  },
  {
   "cell_type": "code",
   "execution_count": 38,
   "metadata": {},
   "outputs": [
    {
     "name": "stderr",
     "output_type": "stream",
     "text": [
      "Warning message in adf.test(rests.d12):\n",
      "\"p-value smaller than printed p-value\"\n"
     ]
    },
    {
     "data": {
      "text/plain": [
       "\n",
       "\tAugmented Dickey-Fuller Test\n",
       "\n",
       "data:  rests.d12\n",
       "Dickey-Fuller = -4.7204, Lag order = 5, p-value = 0.01\n",
       "alternative hypothesis: stationary\n"
      ]
     },
     "metadata": {},
     "output_type": "display_data"
    }
   ],
   "source": [
    "#Probamos el test de raíz unitaria\n",
    "adf.test(rests.d12)"
   ]
  },
  {
   "cell_type": "markdown",
   "metadata": {},
   "source": [
    "En este caso la serie si es estacionaria (p-valor < 0.01)"
   ]
  },
  {
   "cell_type": "markdown",
   "metadata": {},
   "source": [
    "## 3.3 - Estructura ARMA y ARIMA datos de los transformados"
   ]
  },
  {
   "cell_type": "markdown",
   "metadata": {},
   "source": [
    "Aplicamos el metodo sample extended acf, para ver las mejores opciones para los modelos."
   ]
  },
  {
   "cell_type": "code",
   "execution_count": 39,
   "metadata": {},
   "outputs": [],
   "source": [
    "# Estructura del modelo ARMA\n",
    "library(TSA)"
   ]
  },
  {
   "cell_type": "code",
   "execution_count": 40,
   "metadata": {},
   "outputs": [
    {
     "name": "stdout",
     "output_type": "stream",
     "text": [
      "AR/MA\n",
      "  0 1 2 3 4 5 6 7 8 9 10 11 12 13\n",
      "0 x x o o o o x x o o x  x  o  o \n",
      "1 o x o o o o o o o o o  x  o  o \n",
      "2 o x o o o o o o o o o  x  o  o \n",
      "3 x o o o o o o o o o o  x  o  o \n",
      "4 x o x o o o o o o o o  x  o  o \n",
      "5 x x o o o o o o o o o  x  o  o \n",
      "6 x x x o x o o o o o o  x  o  o \n",
      "7 x x o o o o o o o o o  x  o  o \n"
     ]
    }
   ],
   "source": [
    "eacf(rests.d12)"
   ]
  },
  {
   "cell_type": "markdown",
   "metadata": {},
   "source": [
    "El resultado sugiere examinar los modelos MA(2), AR(1), AR(2), ARMA(3,1), ARMA(4,1) o ARMA (5,2). Para ver cual de estos modelos es el más edecuado vamos aplicar el criterio AIC."
   ]
  },
  {
   "cell_type": "code",
   "execution_count": 41,
   "metadata": {},
   "outputs": [
    {
     "data": {
      "text/html": [
       "<style>\n",
       ".list-inline {list-style: none; margin:0; padding: 0}\n",
       ".list-inline>li {display: inline-block}\n",
       ".list-inline>li:not(:last-child)::after {content: \"\\00b7\"; padding: 0 .5ex}\n",
       "</style>\n",
       "<ol class=list-inline><li>1365.48654695186</li><li>1350.46955666829</li><li>1353.3428634063</li><li>1349.01245345607</li><li>1354.77485243594</li><li>1348.48685878771</li></ol>\n"
      ],
      "text/latex": [
       "\\begin{enumerate*}\n",
       "\\item 1365.48654695186\n",
       "\\item 1350.46955666829\n",
       "\\item 1353.3428634063\n",
       "\\item 1349.01245345607\n",
       "\\item 1354.77485243594\n",
       "\\item 1348.48685878771\n",
       "\\end{enumerate*}\n"
      ],
      "text/markdown": [
       "1. 1365.48654695186\n",
       "2. 1350.46955666829\n",
       "3. 1353.3428634063\n",
       "4. 1349.01245345607\n",
       "5. 1354.77485243594\n",
       "6. 1348.48685878771\n",
       "\n",
       "\n"
      ],
      "text/plain": [
       "[1] 1365.487 1350.470 1353.343 1349.012 1354.775 1348.487"
      ]
     },
     "metadata": {},
     "output_type": "display_data"
    }
   ],
   "source": [
    "fit1 <- arima(rests.d12, order = c(0,0,1))\n",
    "fit2 <- arima(rests.d12, order = c(1,0,0))\n",
    "fit3 <- arima(rests.d12, order = c(2,0,1))\n",
    "fit4 <- arima(rests.d12, order = c(3,0,1))\n",
    "fit5 <- arima(rests.d12, order = c(4,0,1))\n",
    "fit6 <- arima(rests.d12, order = c(5,0,2))\n",
    "\n",
    "c(fit1$aic, fit2$aic, fit3$aic, fit4$aic, fit5$aic, fit6$aic)"
   ]
  },
  {
   "cell_type": "code",
   "execution_count": 42,
   "metadata": {},
   "outputs": [
    {
     "data": {
      "text/plain": [
       "Series: rests.d12 \n",
       "ARIMA(1,0,0)(2,0,1)[12] with zero mean \n",
       "\n",
       "Coefficients:\n",
       "         ar1     sar1     sar2     sma1\n",
       "      0.5926  -0.1246  -0.4263  -0.6683\n",
       "s.e.  0.0712   0.1209   0.0974   0.1536\n",
       "\n",
       "sigma^2 estimated as 865.9:  log likelihood=-635.99\n",
       "AIC=1281.98   AICc=1282.46   BIC=1296.36"
      ]
     },
     "metadata": {},
     "output_type": "display_data"
    }
   ],
   "source": [
    "# Probamos con la función auto.arima.\n",
    "auto.arima(rests.d12)"
   ]
  },
  {
   "cell_type": "markdown",
   "metadata": {},
   "source": [
    "Se comprueba que el modelo  AR(1) para diferencias de orden 1 junto con un modelo ARMA(2,1) para la estacionalidad ( lag =12) es el modelo que menor AIC proporciona."
   ]
  },
  {
   "cell_type": "markdown",
   "metadata": {},
   "source": [
    "## 3.4 - Diagnóstico del modelo final"
   ]
  },
  {
   "cell_type": "markdown",
   "metadata": {},
   "source": [
    "Analizamos los residuos para detectar cualquier indicio de no aleatoriedad."
   ]
  },
  {
   "cell_type": "code",
   "execution_count": 43,
   "metadata": {},
   "outputs": [
    {
     "data": {
      "image/png": "[encoded data removed]",
      "text/plain": [
       "Plot with title \"p values for Ljung-Box statistic\""
      ]
     },
     "metadata": {
      "image/png": {
       "height": 420,
       "width": 420
      }
     },
     "output_type": "display_data"
    }
   ],
   "source": [
    "fit <- arima(rests.d12, order=c(1,0,0), seasonal = list(order = c(2, 0, 1), period = 12))\n",
    "tsdiag(fit)"
   ]
  },
  {
   "cell_type": "markdown",
   "metadata": {},
   "source": [
    "La función de autocorrelación se mantiene en el intervalo (-0.2,0.2) lo cual indica muy poca correlación entre los residuos. Por otro lado los p-valores del test Box-Ljung (H0: residuos independientes, H1: residuos dependientes), se mantienen con valores superiores a 0.05 por lo que adoptamos la hipótesis nula."
   ]
  },
  {
   "cell_type": "markdown",
   "metadata": {},
   "source": [
    "## 3.5 - Predicción de resultados"
   ]
  },
  {
   "cell_type": "code",
   "execution_count": 44,
   "metadata": {},
   "outputs": [
    {
     "data": {
      "image/png": "[encoded data removed]",
      "text/plain": [
       "plot without title"
      ]
     },
     "metadata": {
      "image/png": {
       "height": 420,
       "width": 420
      }
     },
     "output_type": "display_data"
    }
   ],
   "source": [
    "# Prediccíón de la serie de diferencias con el modelo ARIMA seleccionado\n",
    "plot(rests.d12, xlim = c(2004,2017))\n",
    "rests.d12_pred <-predict(fit, n.ahead = 12)\n",
    "lines(rests.d12_pred$pred, col=\"red\")"
   ]
  },
  {
   "cell_type": "code",
   "execution_count": 45,
   "metadata": {},
   "outputs": [
    {
     "data": {
      "image/png": "[encoded data removed]",
      "text/plain": [
       "plot without title"
      ]
     },
     "metadata": {
      "image/png": {
       "height": 420,
       "width": 420
      }
     },
     "output_type": "display_data"
    }
   ],
   "source": [
    "# Combinamos la serie temporal de differencias y la predicción\n",
    "# en una misma serie\n",
    "\n",
    "rests.all <- c(rests.d12, rests.d12_pred$pred)\n",
    "rests.all <- ts(rests.all, start=c(2004,1),freq=12)\n",
    "plot(rests.all, type=\"l\")"
   ]
  },
  {
   "cell_type": "code",
   "execution_count": 46,
   "metadata": {},
   "outputs": [
    {
     "data": {
      "image/png": "[encoded data removed]",
      "text/plain": [
       "plot without title"
      ]
     },
     "metadata": {
      "image/png": {
       "height": 420,
       "width": 420
      }
     },
     "output_type": "display_data"
    }
   ],
   "source": [
    "# Invertimos todas las transformaciones\n",
    "\n",
    "# primero deshacemos la diferencia estacional\n",
    "rests.inv1 <- diffinv(rests.all, lag = 12, differences = 1,\n",
    "                     xi = c(rests.d1[1] ,rests.d1[2], rests.d1[3],\n",
    "                            rests.d1[4], rests.d1[5], rests.d1[6],\n",
    "                            rests.d1[7], rests.d1[8], rests.d1[9],\n",
    "                            rests.d1[10], rests.d1[11], rests.d1[12]))\n",
    "\n",
    "#segundo deshacemos la diferencia de orden 1\n",
    "rests.inv2 <- diffinv(rests.inv1, lag = 1, differences = 1,\n",
    "                     xi = rests.BC[1])\n",
    "\n",
    "#y tercero la transformación Box-Cox\n",
    "rests.inv3 <- InvBoxCox(rests.inv2,lambda)\n",
    "rests.global <- ts(rests.inv3, start = 2004, freq = 12)\n",
    "\n",
    "# hacemos un plot de las serie original con la predicción\n",
    "plot(rests.global,\n",
    "     type = \"l\",\n",
    "     xlim = c(2004,2017),\n",
    "     ylim = c(0.99*min(rests.global), 1.01*max(rests.global)),\n",
    "     col = 'red')\n",
    "lines(rests, col=\"blue\")\n",
    "lines(rests.check, col = 'dark green')\n",
    "legend(\"topleft\",\n",
    "       legend=c(\"serie hasta 2015\",\"prediccion 2016\",'datos reales 2016'),\n",
    "       col=c(\"blue\",\"red\",'dark green'),lwd=2)"
   ]
  },
  {
   "cell_type": "code",
   "execution_count": 48,
   "metadata": {},
   "outputs": [
    {
     "data": {
      "text/plain": [
       "Series: rests \n",
       "ARIMA(1,1,0)(2,1,1)[12] \n",
       "\n",
       "Coefficients:\n",
       "         ar1     sar1     sar2     sma1\n",
       "      0.6009  -0.1052  -0.4200  -0.6717\n",
       "s.e.  0.0706   0.1235   0.0986   0.1598\n",
       "\n",
       "sigma^2 estimated as 204.7:  log likelihood=-541.37\n",
       "AIC=1092.73   AICc=1093.21   BIC=1107.11"
      ]
     },
     "metadata": {},
     "output_type": "display_data"
    },
    {
     "data": {
      "image/png": "[encoded data removed]",
      "text/plain": [
       "Plot with title \"Forecasts from ARIMA(1,1,0)(2,1,1)[12]\""
      ]
     },
     "metadata": {
      "image/png": {
       "height": 420,
       "width": 420
      }
     },
     "output_type": "display_data"
    }
   ],
   "source": [
    "# Con la libreria forecast y la serie original (sin transformar)\n",
    "ajuste <- auto.arima(rests)\n",
    "ajuste\n",
    "rests.fcast <- forecast(ajuste, h=12)\n",
    "plot(rests.fcast)\n",
    "lines(rests.check, col = 'red')"
   ]
  },
  {
   "cell_type": "markdown",
   "metadata": {},
   "source": [
    "Se observa que con forecast la solución es prácticamente indentica, aunque de hecho el AIC obtenido es menor que el modelo obtenido haciendo todo el proceso paso a paso. Aunque para entender el mecanismo y los detalles es necesario hacer el proceso paso. Parece que en principio desde el punto de vista práctico es más recomendable usar forecast. No obstante en la seccion de cálculo de errores se verá cual proporciona mejor resultado"
   ]
  },
  {
   "cell_type": "markdown",
   "metadata": {},
   "source": [
    "## 3.6 - Calculo de errores"
   ]
  },
  {
   "cell_type": "code",
   "execution_count": 49,
   "metadata": {},
   "outputs": [
    {
     "data": {
      "text/html": [
       "<table>\n",
       "<caption>A data.frame: 7 × 1</caption>\n",
       "<thead>\n",
       "\t<tr><th></th><th scope=col>Test.set</th></tr>\n",
       "\t<tr><th></th><th scope=col>&lt;dbl&gt;</th></tr>\n",
       "</thead>\n",
       "<tbody>\n",
       "\t<tr><th scope=row>ME</th><td> 0.88926751</td></tr>\n",
       "\t<tr><th scope=row>RMSE</th><td>14.73307242</td></tr>\n",
       "\t<tr><th scope=row>MAE</th><td>13.74344062</td></tr>\n",
       "\t<tr><th scope=row>MPE</th><td>-0.03033209</td></tr>\n",
       "\t<tr><th scope=row>MAPE</th><td> 4.17724934</td></tr>\n",
       "\t<tr><th scope=row>ACF1</th><td> 0.50850060</td></tr>\n",
       "\t<tr><th scope=row>Theil's U</th><td> 0.68817020</td></tr>\n",
       "</tbody>\n",
       "</table>\n"
      ],
      "text/latex": [
       "A data.frame: 7 × 1\n",
       "\\begin{tabular}{r|l}\n",
       "  & Test.set\\\\\n",
       "  & <dbl>\\\\\n",
       "\\hline\n",
       "\tME &  0.88926751\\\\\n",
       "\tRMSE & 14.73307242\\\\\n",
       "\tMAE & 13.74344062\\\\\n",
       "\tMPE & -0.03033209\\\\\n",
       "\tMAPE &  4.17724934\\\\\n",
       "\tACF1 &  0.50850060\\\\\n",
       "\tTheil's U &  0.68817020\\\\\n",
       "\\end{tabular}\n"
      ],
      "text/markdown": [
       "\n",
       "A data.frame: 7 × 1\n",
       "\n",
       "| <!--/--> | Test.set &lt;dbl&gt; |\n",
       "|---|---|\n",
       "| ME |  0.88926751 |\n",
       "| RMSE | 14.73307242 |\n",
       "| MAE | 13.74344062 |\n",
       "| MPE | -0.03033209 |\n",
       "| MAPE |  4.17724934 |\n",
       "| ACF1 |  0.50850060 |\n",
       "| Theil's U |  0.68817020 |\n",
       "\n"
      ],
      "text/plain": [
       "          Test.set   \n",
       "ME         0.88926751\n",
       "RMSE      14.73307242\n",
       "MAE       13.74344062\n",
       "MPE       -0.03033209\n",
       "MAPE       4.17724934\n",
       "ACF1       0.50850060\n",
       "Theil's U  0.68817020"
      ]
     },
     "metadata": {},
     "output_type": "display_data"
    }
   ],
   "source": [
    "# Errores con el modelo ARIMA paso a paso con transformaciones\n",
    "(errors_steps <-  data.frame(t(accuracy(window(rests.global,2016), rests.check))))"
   ]
  },
  {
   "cell_type": "code",
   "execution_count": 50,
   "metadata": {},
   "outputs": [
    {
     "data": {
      "text/html": [
       "<table>\n",
       "<caption>A data.frame: 7 × 1</caption>\n",
       "<thead>\n",
       "\t<tr><th></th><th scope=col>Test.set</th></tr>\n",
       "\t<tr><th></th><th scope=col>&lt;dbl&gt;</th></tr>\n",
       "</thead>\n",
       "<tbody>\n",
       "\t<tr><th scope=row>ME</th><td> 8.1844328</td></tr>\n",
       "\t<tr><th scope=row>RMSE</th><td>17.3237195</td></tr>\n",
       "\t<tr><th scope=row>MAE</th><td>15.7211855</td></tr>\n",
       "\t<tr><th scope=row>MPE</th><td> 2.3004720</td></tr>\n",
       "\t<tr><th scope=row>MAPE</th><td> 4.6733293</td></tr>\n",
       "\t<tr><th scope=row>ACF1</th><td> 0.5486615</td></tr>\n",
       "\t<tr><th scope=row>Theil's U</th><td> 0.7738474</td></tr>\n",
       "</tbody>\n",
       "</table>\n"
      ],
      "text/latex": [
       "A data.frame: 7 × 1\n",
       "\\begin{tabular}{r|l}\n",
       "  & Test.set\\\\\n",
       "  & <dbl>\\\\\n",
       "\\hline\n",
       "\tME &  8.1844328\\\\\n",
       "\tRMSE & 17.3237195\\\\\n",
       "\tMAE & 15.7211855\\\\\n",
       "\tMPE &  2.3004720\\\\\n",
       "\tMAPE &  4.6733293\\\\\n",
       "\tACF1 &  0.5486615\\\\\n",
       "\tTheil's U &  0.7738474\\\\\n",
       "\\end{tabular}\n"
      ],
      "text/markdown": [
       "\n",
       "A data.frame: 7 × 1\n",
       "\n",
       "| <!--/--> | Test.set &lt;dbl&gt; |\n",
       "|---|---|\n",
       "| ME |  8.1844328 |\n",
       "| RMSE | 17.3237195 |\n",
       "| MAE | 15.7211855 |\n",
       "| MPE |  2.3004720 |\n",
       "| MAPE |  4.6733293 |\n",
       "| ACF1 |  0.5486615 |\n",
       "| Theil's U |  0.7738474 |\n",
       "\n"
      ],
      "text/plain": [
       "          Test.set  \n",
       "ME         8.1844328\n",
       "RMSE      17.3237195\n",
       "MAE       15.7211855\n",
       "MPE        2.3004720\n",
       "MAPE       4.6733293\n",
       "ACF1       0.5486615\n",
       "Theil's U  0.7738474"
      ]
     },
     "metadata": {},
     "output_type": "display_data"
    }
   ],
   "source": [
    "# Errores con el modelo ARIMA obtenido a partir de la serie de partida\n",
    "# y sin transformaciones previas\n",
    "(errors_forecast <- data.frame(t(accuracy(rests.fcast$mean , rests.check))))"
   ]
  },
  {
   "cell_type": "markdown",
   "metadata": {},
   "source": [
    "# 4 Evaluación de los modelos"
   ]
  },
  {
   "cell_type": "markdown",
   "metadata": {},
   "source": [
    "Se presentan en una misma tabla los errores calculados para los tres modelos (suavizado exponencia y los dos modelos ARIMA)."
   ]
  },
  {
   "cell_type": "code",
   "execution_count": 51,
   "metadata": {},
   "outputs": [
    {
     "data": {
      "text/html": [
       "<table>\n",
       "<caption>A data.frame: 7 × 4</caption>\n",
       "<thead>\n",
       "\t<tr><th></th><th scope=col>description</th><th scope=col>arima_steps</th><th scope=col>arima_forecast</th><th scope=col>suav_exp</th></tr>\n",
       "\t<tr><th></th><th scope=col>&lt;chr&gt;</th><th scope=col>&lt;dbl&gt;</th><th scope=col>&lt;dbl&gt;</th><th scope=col>&lt;dbl&gt;</th></tr>\n",
       "</thead>\n",
       "<tbody>\n",
       "\t<tr><th scope=row>ME</th><td>Error medio                             </td><td> 0.88926751</td><td> 8.1844328</td><td>40.247500</td></tr>\n",
       "\t<tr><th scope=row>RMSE</th><td>Raíz del error cuadrático medio         </td><td>14.73307242</td><td>17.3237195</td><td>50.157171</td></tr>\n",
       "\t<tr><th scope=row>MAE</th><td>Error medio absoluto                    </td><td>13.74344062</td><td>15.7211855</td><td>41.899657</td></tr>\n",
       "\t<tr><th scope=row>MPE</th><td>Porcentaje de error medio               </td><td>-0.03033209</td><td> 2.3004720</td><td>11.503557</td></tr>\n",
       "\t<tr><th scope=row>MAPE</th><td>Porcentaje de error medio absoluto      </td><td> 4.17724934</td><td> 4.6733293</td><td>12.026317</td></tr>\n",
       "\t<tr><th scope=row>ACF1</th><td>Autocorrelación de errores con retraso 1</td><td> 0.50850060</td><td> 0.5486615</td><td> 0.647911</td></tr>\n",
       "\t<tr><th scope=row>Theil's U</th><td>Índice U de desigualdad de Theils       </td><td> 0.68817020</td><td> 0.7738474</td><td> 2.195193</td></tr>\n",
       "</tbody>\n",
       "</table>\n"
      ],
      "text/latex": [
       "A data.frame: 7 × 4\n",
       "\\begin{tabular}{r|llll}\n",
       "  & description & arima\\_steps & arima\\_forecast & suav\\_exp\\\\\n",
       "  & <chr> & <dbl> & <dbl> & <dbl>\\\\\n",
       "\\hline\n",
       "\tME & Error medio                              &  0.88926751 &  8.1844328 & 40.247500\\\\\n",
       "\tRMSE & Raíz del error cuadrático medio          & 14.73307242 & 17.3237195 & 50.157171\\\\\n",
       "\tMAE & Error medio absoluto                     & 13.74344062 & 15.7211855 & 41.899657\\\\\n",
       "\tMPE & Porcentaje de error medio                & -0.03033209 &  2.3004720 & 11.503557\\\\\n",
       "\tMAPE & Porcentaje de error medio absoluto       &  4.17724934 &  4.6733293 & 12.026317\\\\\n",
       "\tACF1 & Autocorrelación de errores con retraso 1 &  0.50850060 &  0.5486615 &  0.647911\\\\\n",
       "\tTheil's U & Índice U de desigualdad de Theils        &  0.68817020 &  0.7738474 &  2.195193\\\\\n",
       "\\end{tabular}\n"
      ],
      "text/markdown": [
       "\n",
       "A data.frame: 7 × 4\n",
       "\n",
       "| <!--/--> | description &lt;chr&gt; | arima_steps &lt;dbl&gt; | arima_forecast &lt;dbl&gt; | suav_exp &lt;dbl&gt; |\n",
       "|---|---|---|---|---|\n",
       "| ME | Error medio                              |  0.88926751 |  8.1844328 | 40.247500 |\n",
       "| RMSE | Raíz del error cuadrático medio          | 14.73307242 | 17.3237195 | 50.157171 |\n",
       "| MAE | Error medio absoluto                     | 13.74344062 | 15.7211855 | 41.899657 |\n",
       "| MPE | Porcentaje de error medio                | -0.03033209 |  2.3004720 | 11.503557 |\n",
       "| MAPE | Porcentaje de error medio absoluto       |  4.17724934 |  4.6733293 | 12.026317 |\n",
       "| ACF1 | Autocorrelación de errores con retraso 1 |  0.50850060 |  0.5486615 |  0.647911 |\n",
       "| Theil's U | Índice U de desigualdad de Theils        |  0.68817020 |  0.7738474 |  2.195193 |\n",
       "\n"
      ],
      "text/plain": [
       "          description                              arima_steps arima_forecast\n",
       "ME        Error medio                               0.88926751  8.1844328    \n",
       "RMSE      Raíz del error cuadrático medio          14.73307242 17.3237195    \n",
       "MAE       Error medio absoluto                     13.74344062 15.7211855    \n",
       "MPE       Porcentaje de error medio                -0.03033209  2.3004720    \n",
       "MAPE      Porcentaje de error medio absoluto        4.17724934  4.6733293    \n",
       "ACF1      Autocorrelación de errores con retraso 1  0.50850060  0.5486615    \n",
       "Theil's U Índice U de desigualdad de Theils         0.68817020  0.7738474    \n",
       "          suav_exp \n",
       "ME        40.247500\n",
       "RMSE      50.157171\n",
       "MAE       41.899657\n",
       "MPE       11.503557\n",
       "MAPE      12.026317\n",
       "ACF1       0.647911\n",
       "Theil's U  2.195193"
      ]
     },
     "metadata": {},
     "output_type": "display_data"
    }
   ],
   "source": [
    "errores <- cbind(errors_steps, errors_forecast, errors)\n",
    "errores <- errores[, c(4,1,2,3)]\n",
    "colnames(errores)[2:4] <- c('arima_steps','arima_forecast','suav_exp')\n",
    "errores"
   ]
  },
  {
   "cell_type": "markdown",
   "metadata": {},
   "source": [
    "Según se muestra en la tabla el modelo ARIMA(1,0,0)(2,0,1){12} proporciona los mejores índices de error de los tres modelos. No obstante se pone de manifiesto que los modelos ARIMA muestran mucha más precisión en que el modelo de suavizado exponencial. "
   ]
  },
  {
   "cell_type": "code",
   "execution_count": null,
   "metadata": {},
   "outputs": [],
   "source": []
  }
 ],
 "metadata": {
  "kernelspec": {
   "display_name": "R 4.0.4",
   "language": "R",
   "name": "ir40"
  },
  "language_info": {
   "codemirror_mode": "r",
   "file_extension": ".r",
   "mimetype": "text/x-r-source",
   "name": "R",
   "pygments_lexer": "r",
   "version": "4.0.4"
  }
 },
 "nbformat": 4,
 "nbformat_minor": 4
}
